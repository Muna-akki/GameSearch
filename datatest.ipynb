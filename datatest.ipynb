{
 "cells": [
  {
   "cell_type": "code",
   "execution_count": 7,
   "metadata": {},
   "outputs": [],
   "source": [
    "import pandas as pd"
   ]
  },
  {
   "cell_type": "code",
   "execution_count": 8,
   "metadata": {},
   "outputs": [],
   "source": [
    "df = pd.read_csv(\"./data/gamelist_safe_added_pov.csv\")"
   ]
  },
  {
   "cell_type": "code",
   "execution_count": 12,
   "metadata": {},
   "outputs": [
    {
     "name": "stdout",
     "output_type": "stream",
     "text": [
      "879apc00017\n",
      "STEINS;GATE\n",
      "nan\n",
      "STEINS;GATE 比翼恋理のだーりん\n",
      "nan\n",
      "STEINS;GATE\n",
      "nan\n",
      "STEINS;GATE 変移空間のオクテット\n",
      "nan\n",
      "STEINS;GATE 比翼恋理のだーりん\n",
      "nan\n",
      "STEINS;GATE\n",
      "nan\n",
      "STEINS;GATE 比翼恋理のだーりん\n",
      "nan\n",
      "STEINS;GATE\n",
      "nan\n",
      "STEINS;GATE 比翼恋理のだーりん\n",
      "nan\n",
      "STEINS;GATE 線形拘束のフェノグラム\n",
      "nan\n",
      "STEINS;GATE 線形拘束のフェノグラム\n",
      "nan\n",
      "STEINS;GATE 線形拘束のフェノグラム\n",
      "nan\n",
      "STEINS;GATE 0\n",
      "nan\n",
      "STEINS;GATE 0\n",
      "nan\n",
      "STEINS;GATE 0\n",
      "nan\n",
      "STEINS;GATE HD\n",
      "583apc11391\n",
      "STEINS;GATE 0\n",
      "nan\n",
      "STEINS;GATE 0\n",
      "nan\n",
      "STEINS;GATE ELITE\n",
      "nan\n",
      "STEINS;GATE ELITE\n",
      "nan\n",
      "STEINS;GATE ELITE\n",
      "nan\n",
      "STEINS;GATE ダイバージェンシズ アソート\n"
     ]
    }
   ],
   "source": [
    "for i in df.index.values:\n",
    "    title = df.loc[i,\"gamename\"]\n",
    "    if \"STEINS\" in title:\n",
    "        print(df.loc[i,\"dmm\"])\n",
    "        print(df.loc[i,\"gamename\"])\n"
   ]
  },
  {
   "cell_type": "code",
   "execution_count": null,
   "metadata": {},
   "outputs": [],
   "source": []
  },
  {
   "cell_type": "code",
   "execution_count": null,
   "metadata": {},
   "outputs": [],
   "source": []
  }
 ],
 "metadata": {
  "kernelspec": {
   "display_name": "Python 3.10.8",
   "language": "python",
   "name": "python3"
  },
  "language_info": {
   "codemirror_mode": {
    "name": "ipython",
    "version": 3
   },
   "file_extension": ".py",
   "mimetype": "text/x-python",
   "name": "python",
   "nbconvert_exporter": "python",
   "pygments_lexer": "ipython3",
   "version": "3.10.8"
  },
  "orig_nbformat": 4,
  "vscode": {
   "interpreter": {
    "hash": "04df0a89116ae89987f9a901b9190be1348dca37b489a9f60dbe34d46fee6453"
   }
  }
 },
 "nbformat": 4,
 "nbformat_minor": 2
}
